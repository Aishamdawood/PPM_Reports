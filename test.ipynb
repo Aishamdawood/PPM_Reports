{
 "cells": [
  {
   "cell_type": "code",
   "execution_count": 1,
   "metadata": {},
   "outputs": [
    {
     "name": "stdout",
     "output_type": "stream",
     "text": [
      "Requirement already satisfied: pandasai in /usr/local/python/3.10.13/lib/python3.10/site-packages (from -r Req.txt (line 1)) (2.0.37)\n",
      "Requirement already satisfied: streamlit in /usr/local/python/3.10.13/lib/python3.10/site-packages (from -r Req.txt (line 2)) (1.34.0)\n",
      "Requirement already satisfied: langchain_anthropic in /usr/local/python/3.10.13/lib/python3.10/site-packages (from -r Req.txt (line 3)) (0.1.11)\n",
      "Requirement already satisfied: seaborn in /home/codespace/.local/lib/python3.10/site-packages (from -r Req.txt (line 4)) (0.13.2)\n",
      "Requirement already satisfied: python-dotenv in /usr/local/python/3.10.13/lib/python3.10/site-packages (from -r Req.txt (line 5)) (1.0.1)\n",
      "Requirement already satisfied: langchain_community in /usr/local/python/3.10.13/lib/python3.10/site-packages (from -r Req.txt (line 6)) (0.0.38)\n",
      "Requirement already satisfied: Ollama in /usr/local/python/3.10.13/lib/python3.10/site-packages (from -r Req.txt (line 7)) (0.2.0)\n",
      "Requirement already satisfied: langchain in /usr/local/python/3.10.13/lib/python3.10/site-packages (from -r Req.txt (line 8)) (0.1.20)\n",
      "Requirement already satisfied: langchain_experimental in /usr/local/python/3.10.13/lib/python3.10/site-packages (from -r Req.txt (line 9)) (0.0.58)\n",
      "Requirement already satisfied: astor<0.9.0,>=0.8.1 in /usr/local/python/3.10.13/lib/python3.10/site-packages (from pandasai->-r Req.txt (line 1)) (0.8.1)\n",
      "Requirement already satisfied: duckdb<1 in /usr/local/python/3.10.13/lib/python3.10/site-packages (from pandasai->-r Req.txt (line 1)) (0.10.2)\n",
      "Requirement already satisfied: faker<20.0.0,>=19.12.0 in /usr/local/python/3.10.13/lib/python3.10/site-packages (from pandasai->-r Req.txt (line 1)) (19.13.0)\n",
      "Requirement already satisfied: jinja2<4.0.0,>=3.1.3 in /home/codespace/.local/lib/python3.10/site-packages (from pandasai->-r Req.txt (line 1)) (3.1.3)\n",
      "Requirement already satisfied: matplotlib<4.0.0,>=3.7.1 in /home/codespace/.local/lib/python3.10/site-packages (from pandasai->-r Req.txt (line 1)) (3.8.3)\n",
      "Requirement already satisfied: openai<2 in /usr/local/python/3.10.13/lib/python3.10/site-packages (from pandasai->-r Req.txt (line 1)) (1.28.1)\n",
      "Requirement already satisfied: pandas==1.5.3 in /usr/local/python/3.10.13/lib/python3.10/site-packages (from pandasai->-r Req.txt (line 1)) (1.5.3)\n",
      "Requirement already satisfied: pillow<11.0.0,>=10.1.0 in /home/codespace/.local/lib/python3.10/site-packages (from pandasai->-r Req.txt (line 1)) (10.3.0)\n",
      "Requirement already satisfied: pydantic<3,>=1 in /usr/local/python/3.10.13/lib/python3.10/site-packages (from pandasai->-r Req.txt (line 1)) (2.7.1)\n",
      "Requirement already satisfied: requests<3.0.0,>=2.31.0 in /home/codespace/.local/lib/python3.10/site-packages (from pandasai->-r Req.txt (line 1)) (2.31.0)\n",
      "Requirement already satisfied: scipy<2.0.0,>=1.9.0 in /home/codespace/.local/lib/python3.10/site-packages (from pandasai->-r Req.txt (line 1)) (1.13.0)\n",
      "Requirement already satisfied: sqlalchemy<3,>=1.4 in /usr/local/python/3.10.13/lib/python3.10/site-packages (from pandasai->-r Req.txt (line 1)) (2.0.30)\n",
      "Requirement already satisfied: python-dateutil>=2.8.1 in /home/codespace/.local/lib/python3.10/site-packages (from pandas==1.5.3->pandasai->-r Req.txt (line 1)) (2.9.0.post0)\n",
      "Requirement already satisfied: pytz>=2020.1 in /home/codespace/.local/lib/python3.10/site-packages (from pandas==1.5.3->pandasai->-r Req.txt (line 1)) (2024.1)\n",
      "Requirement already satisfied: numpy>=1.21.0 in /home/codespace/.local/lib/python3.10/site-packages (from pandas==1.5.3->pandasai->-r Req.txt (line 1)) (1.26.4)\n",
      "Requirement already satisfied: altair<6,>=4.0 in /usr/local/python/3.10.13/lib/python3.10/site-packages (from streamlit->-r Req.txt (line 2)) (5.3.0)\n",
      "Requirement already satisfied: blinker<2,>=1.0.0 in /usr/local/python/3.10.13/lib/python3.10/site-packages (from streamlit->-r Req.txt (line 2)) (1.8.2)\n",
      "Requirement already satisfied: cachetools<6,>=4.0 in /usr/local/python/3.10.13/lib/python3.10/site-packages (from streamlit->-r Req.txt (line 2)) (5.3.3)\n",
      "Requirement already satisfied: click<9,>=7.0 in /usr/local/python/3.10.13/lib/python3.10/site-packages (from streamlit->-r Req.txt (line 2)) (8.1.7)\n",
      "Requirement already satisfied: packaging<25,>=16.8 in /usr/local/python/3.10.13/lib/python3.10/site-packages (from streamlit->-r Req.txt (line 2)) (23.2)\n",
      "Requirement already satisfied: protobuf<5,>=3.20 in /usr/local/python/3.10.13/lib/python3.10/site-packages (from streamlit->-r Req.txt (line 2)) (4.25.3)\n",
      "Requirement already satisfied: pyarrow>=7.0 in /usr/local/python/3.10.13/lib/python3.10/site-packages (from streamlit->-r Req.txt (line 2)) (16.0.0)\n",
      "Requirement already satisfied: rich<14,>=10.14.0 in /usr/local/python/3.10.13/lib/python3.10/site-packages (from streamlit->-r Req.txt (line 2)) (13.7.1)\n",
      "Requirement already satisfied: tenacity<9,>=8.1.0 in /home/codespace/.local/lib/python3.10/site-packages (from streamlit->-r Req.txt (line 2)) (8.2.3)\n",
      "Requirement already satisfied: toml<2,>=0.10.1 in /usr/local/python/3.10.13/lib/python3.10/site-packages (from streamlit->-r Req.txt (line 2)) (0.10.2)\n",
      "Requirement already satisfied: typing-extensions<5,>=4.3.0 in /home/codespace/.local/lib/python3.10/site-packages (from streamlit->-r Req.txt (line 2)) (4.10.0)\n",
      "Requirement already satisfied: gitpython!=3.1.19,<4,>=3.0.7 in /home/codespace/.local/lib/python3.10/site-packages (from streamlit->-r Req.txt (line 2)) (3.1.43)\n",
      "Requirement already satisfied: pydeck<1,>=0.8.0b4 in /usr/local/python/3.10.13/lib/python3.10/site-packages (from streamlit->-r Req.txt (line 2)) (0.9.1)\n",
      "Requirement already satisfied: tornado<7,>=6.0.3 in /home/codespace/.local/lib/python3.10/site-packages (from streamlit->-r Req.txt (line 2)) (6.4)\n",
      "Requirement already satisfied: watchdog>=2.1.5 in /usr/local/python/3.10.13/lib/python3.10/site-packages (from streamlit->-r Req.txt (line 2)) (4.0.0)\n",
      "Requirement already satisfied: anthropic<1,>=0.23.0 in /usr/local/python/3.10.13/lib/python3.10/site-packages (from langchain_anthropic->-r Req.txt (line 3)) (0.25.8)\n",
      "Requirement already satisfied: defusedxml<0.8.0,>=0.7.1 in /home/codespace/.local/lib/python3.10/site-packages (from langchain_anthropic->-r Req.txt (line 3)) (0.7.1)\n",
      "Requirement already satisfied: langchain-core<0.2.0,>=0.1.43 in /usr/local/python/3.10.13/lib/python3.10/site-packages (from langchain_anthropic->-r Req.txt (line 3)) (0.1.52)\n",
      "Requirement already satisfied: PyYAML>=5.3 in /home/codespace/.local/lib/python3.10/site-packages (from langchain_community->-r Req.txt (line 6)) (6.0.1)\n",
      "Requirement already satisfied: aiohttp<4.0.0,>=3.8.3 in /usr/local/python/3.10.13/lib/python3.10/site-packages (from langchain_community->-r Req.txt (line 6)) (3.9.5)\n",
      "Requirement already satisfied: dataclasses-json<0.7,>=0.5.7 in /usr/local/python/3.10.13/lib/python3.10/site-packages (from langchain_community->-r Req.txt (line 6)) (0.6.6)\n",
      "Requirement already satisfied: langsmith<0.2.0,>=0.1.0 in /usr/local/python/3.10.13/lib/python3.10/site-packages (from langchain_community->-r Req.txt (line 6)) (0.1.57)\n",
      "Requirement already satisfied: httpx<0.28.0,>=0.27.0 in /home/codespace/.local/lib/python3.10/site-packages (from Ollama->-r Req.txt (line 7)) (0.27.0)\n",
      "Requirement already satisfied: async-timeout<5.0.0,>=4.0.0 in /usr/local/python/3.10.13/lib/python3.10/site-packages (from langchain->-r Req.txt (line 8)) (4.0.3)\n",
      "Requirement already satisfied: langchain-text-splitters<0.1,>=0.0.1 in /usr/local/python/3.10.13/lib/python3.10/site-packages (from langchain->-r Req.txt (line 8)) (0.0.2)\n",
      "Requirement already satisfied: aiosignal>=1.1.2 in /usr/local/python/3.10.13/lib/python3.10/site-packages (from aiohttp<4.0.0,>=3.8.3->langchain_community->-r Req.txt (line 6)) (1.3.1)\n",
      "Requirement already satisfied: attrs>=17.3.0 in /home/codespace/.local/lib/python3.10/site-packages (from aiohttp<4.0.0,>=3.8.3->langchain_community->-r Req.txt (line 6)) (23.2.0)\n",
      "Requirement already satisfied: frozenlist>=1.1.1 in /usr/local/python/3.10.13/lib/python3.10/site-packages (from aiohttp<4.0.0,>=3.8.3->langchain_community->-r Req.txt (line 6)) (1.4.1)\n",
      "Requirement already satisfied: multidict<7.0,>=4.5 in /usr/local/python/3.10.13/lib/python3.10/site-packages (from aiohttp<4.0.0,>=3.8.3->langchain_community->-r Req.txt (line 6)) (6.0.5)\n",
      "Requirement already satisfied: yarl<2.0,>=1.0 in /usr/local/python/3.10.13/lib/python3.10/site-packages (from aiohttp<4.0.0,>=3.8.3->langchain_community->-r Req.txt (line 6)) (1.9.4)\n",
      "Requirement already satisfied: jsonschema>=3.0 in /home/codespace/.local/lib/python3.10/site-packages (from altair<6,>=4.0->streamlit->-r Req.txt (line 2)) (4.21.1)\n",
      "Requirement already satisfied: toolz in /usr/local/python/3.10.13/lib/python3.10/site-packages (from altair<6,>=4.0->streamlit->-r Req.txt (line 2)) (0.12.1)\n",
      "Requirement already satisfied: anyio<5,>=3.5.0 in /home/codespace/.local/lib/python3.10/site-packages (from anthropic<1,>=0.23.0->langchain_anthropic->-r Req.txt (line 3)) (4.3.0)\n",
      "Requirement already satisfied: distro<2,>=1.7.0 in /usr/local/python/3.10.13/lib/python3.10/site-packages (from anthropic<1,>=0.23.0->langchain_anthropic->-r Req.txt (line 3)) (1.9.0)\n",
      "Requirement already satisfied: sniffio in /home/codespace/.local/lib/python3.10/site-packages (from anthropic<1,>=0.23.0->langchain_anthropic->-r Req.txt (line 3)) (1.3.1)\n",
      "Requirement already satisfied: tokenizers>=0.13.0 in /usr/local/python/3.10.13/lib/python3.10/site-packages (from anthropic<1,>=0.23.0->langchain_anthropic->-r Req.txt (line 3)) (0.19.1)\n",
      "Requirement already satisfied: marshmallow<4.0.0,>=3.18.0 in /usr/local/python/3.10.13/lib/python3.10/site-packages (from dataclasses-json<0.7,>=0.5.7->langchain_community->-r Req.txt (line 6)) (3.21.2)\n",
      "Requirement already satisfied: typing-inspect<1,>=0.4.0 in /usr/local/python/3.10.13/lib/python3.10/site-packages (from dataclasses-json<0.7,>=0.5.7->langchain_community->-r Req.txt (line 6)) (0.9.0)\n",
      "Requirement already satisfied: gitdb<5,>=4.0.1 in /home/codespace/.local/lib/python3.10/site-packages (from gitpython!=3.1.19,<4,>=3.0.7->streamlit->-r Req.txt (line 2)) (4.0.11)\n",
      "Requirement already satisfied: certifi in /home/codespace/.local/lib/python3.10/site-packages (from httpx<0.28.0,>=0.27.0->Ollama->-r Req.txt (line 7)) (2024.2.2)\n",
      "Requirement already satisfied: httpcore==1.* in /home/codespace/.local/lib/python3.10/site-packages (from httpx<0.28.0,>=0.27.0->Ollama->-r Req.txt (line 7)) (1.0.5)\n",
      "Requirement already satisfied: idna in /home/codespace/.local/lib/python3.10/site-packages (from httpx<0.28.0,>=0.27.0->Ollama->-r Req.txt (line 7)) (3.6)\n",
      "Requirement already satisfied: h11<0.15,>=0.13 in /home/codespace/.local/lib/python3.10/site-packages (from httpcore==1.*->httpx<0.28.0,>=0.27.0->Ollama->-r Req.txt (line 7)) (0.14.0)\n",
      "Requirement already satisfied: MarkupSafe>=2.0 in /home/codespace/.local/lib/python3.10/site-packages (from jinja2<4.0.0,>=3.1.3->pandasai->-r Req.txt (line 1)) (2.1.5)\n",
      "Requirement already satisfied: jsonpatch<2.0,>=1.33 in /usr/local/python/3.10.13/lib/python3.10/site-packages (from langchain-core<0.2.0,>=0.1.43->langchain_anthropic->-r Req.txt (line 3)) (1.33)\n",
      "Requirement already satisfied: orjson<4.0.0,>=3.9.14 in /usr/local/python/3.10.13/lib/python3.10/site-packages (from langsmith<0.2.0,>=0.1.0->langchain_community->-r Req.txt (line 6)) (3.10.3)\n",
      "Requirement already satisfied: contourpy>=1.0.1 in /home/codespace/.local/lib/python3.10/site-packages (from matplotlib<4.0.0,>=3.7.1->pandasai->-r Req.txt (line 1)) (1.2.1)\n",
      "Requirement already satisfied: cycler>=0.10 in /home/codespace/.local/lib/python3.10/site-packages (from matplotlib<4.0.0,>=3.7.1->pandasai->-r Req.txt (line 1)) (0.12.1)\n",
      "Requirement already satisfied: fonttools>=4.22.0 in /home/codespace/.local/lib/python3.10/site-packages (from matplotlib<4.0.0,>=3.7.1->pandasai->-r Req.txt (line 1)) (4.50.0)\n",
      "Requirement already satisfied: kiwisolver>=1.3.1 in /home/codespace/.local/lib/python3.10/site-packages (from matplotlib<4.0.0,>=3.7.1->pandasai->-r Req.txt (line 1)) (1.4.5)\n",
      "Requirement already satisfied: pyparsing>=2.3.1 in /home/codespace/.local/lib/python3.10/site-packages (from matplotlib<4.0.0,>=3.7.1->pandasai->-r Req.txt (line 1)) (3.1.2)\n",
      "Requirement already satisfied: tqdm>4 in /usr/local/python/3.10.13/lib/python3.10/site-packages (from openai<2->pandasai->-r Req.txt (line 1)) (4.66.4)\n",
      "Requirement already satisfied: annotated-types>=0.4.0 in /usr/local/python/3.10.13/lib/python3.10/site-packages (from pydantic<3,>=1->pandasai->-r Req.txt (line 1)) (0.6.0)\n",
      "Requirement already satisfied: pydantic-core==2.18.2 in /usr/local/python/3.10.13/lib/python3.10/site-packages (from pydantic<3,>=1->pandasai->-r Req.txt (line 1)) (2.18.2)\n",
      "Requirement already satisfied: charset-normalizer<4,>=2 in /home/codespace/.local/lib/python3.10/site-packages (from requests<3.0.0,>=2.31.0->pandasai->-r Req.txt (line 1)) (3.3.2)\n",
      "Requirement already satisfied: urllib3<3,>=1.21.1 in /usr/local/python/3.10.13/lib/python3.10/site-packages (from requests<3.0.0,>=2.31.0->pandasai->-r Req.txt (line 1)) (2.0.7)\n",
      "Requirement already satisfied: markdown-it-py>=2.2.0 in /usr/local/python/3.10.13/lib/python3.10/site-packages (from rich<14,>=10.14.0->streamlit->-r Req.txt (line 2)) (3.0.0)\n",
      "Requirement already satisfied: pygments<3.0.0,>=2.13.0 in /home/codespace/.local/lib/python3.10/site-packages (from rich<14,>=10.14.0->streamlit->-r Req.txt (line 2)) (2.17.2)\n",
      "Requirement already satisfied: greenlet!=0.4.17 in /usr/local/python/3.10.13/lib/python3.10/site-packages (from sqlalchemy<3,>=1.4->pandasai->-r Req.txt (line 1)) (3.0.3)\n",
      "Requirement already satisfied: exceptiongroup>=1.0.2 in /home/codespace/.local/lib/python3.10/site-packages (from anyio<5,>=3.5.0->anthropic<1,>=0.23.0->langchain_anthropic->-r Req.txt (line 3)) (1.2.0)\n",
      "Requirement already satisfied: smmap<6,>=3.0.1 in /home/codespace/.local/lib/python3.10/site-packages (from gitdb<5,>=4.0.1->gitpython!=3.1.19,<4,>=3.0.7->streamlit->-r Req.txt (line 2)) (5.0.1)\n",
      "Requirement already satisfied: jsonpointer>=1.9 in /home/codespace/.local/lib/python3.10/site-packages (from jsonpatch<2.0,>=1.33->langchain-core<0.2.0,>=0.1.43->langchain_anthropic->-r Req.txt (line 3)) (2.4)\n",
      "Requirement already satisfied: jsonschema-specifications>=2023.03.6 in /home/codespace/.local/lib/python3.10/site-packages (from jsonschema>=3.0->altair<6,>=4.0->streamlit->-r Req.txt (line 2)) (2023.12.1)\n",
      "Requirement already satisfied: referencing>=0.28.4 in /home/codespace/.local/lib/python3.10/site-packages (from jsonschema>=3.0->altair<6,>=4.0->streamlit->-r Req.txt (line 2)) (0.34.0)\n",
      "Requirement already satisfied: rpds-py>=0.7.1 in /home/codespace/.local/lib/python3.10/site-packages (from jsonschema>=3.0->altair<6,>=4.0->streamlit->-r Req.txt (line 2)) (0.18.0)\n",
      "Requirement already satisfied: mdurl~=0.1 in /usr/local/python/3.10.13/lib/python3.10/site-packages (from markdown-it-py>=2.2.0->rich<14,>=10.14.0->streamlit->-r Req.txt (line 2)) (0.1.2)\n",
      "Requirement already satisfied: six>=1.5 in /home/codespace/.local/lib/python3.10/site-packages (from python-dateutil>=2.8.1->pandas==1.5.3->pandasai->-r Req.txt (line 1)) (1.16.0)\n",
      "Requirement already satisfied: huggingface-hub<1.0,>=0.16.4 in /usr/local/python/3.10.13/lib/python3.10/site-packages (from tokenizers>=0.13.0->anthropic<1,>=0.23.0->langchain_anthropic->-r Req.txt (line 3)) (0.23.0)\n",
      "Requirement already satisfied: mypy-extensions>=0.3.0 in /usr/local/python/3.10.13/lib/python3.10/site-packages (from typing-inspect<1,>=0.4.0->dataclasses-json<0.7,>=0.5.7->langchain_community->-r Req.txt (line 6)) (1.0.0)\n",
      "Requirement already satisfied: filelock in /home/codespace/.local/lib/python3.10/site-packages (from huggingface-hub<1.0,>=0.16.4->tokenizers>=0.13.0->anthropic<1,>=0.23.0->langchain_anthropic->-r Req.txt (line 3)) (3.13.3)\n",
      "Requirement already satisfied: fsspec>=2023.5.0 in /home/codespace/.local/lib/python3.10/site-packages (from huggingface-hub<1.0,>=0.16.4->tokenizers>=0.13.0->anthropic<1,>=0.23.0->langchain_anthropic->-r Req.txt (line 3)) (2024.3.1)\n",
      "Note: you may need to restart the kernel to use updated packages.\n"
     ]
    }
   ],
   "source": [
    "pip install -r Req.txt"
   ]
  },
  {
   "cell_type": "code",
   "execution_count": 2,
   "metadata": {},
   "outputs": [],
   "source": [
    "import os\n",
    "from pandasai import SmartDataframe\n",
    "\n",
    "# By default, unless you choose a different LLM, it will use BambooLLM.\n",
    "# You can get your free API key signing up at https://pandabi.ai (you can also configure it in your .env file)\n",
    "os.environ[\"PANDASAI_API_KEY\"] = \"$2a$10$3lpg.RW0lsf63jzOdLm4XugvVLNAo.RKoCahPytqnpLS8Sk5e74ui\"\n",
    "\n"
   ]
  },
  {
   "cell_type": "code",
   "execution_count": null,
   "metadata": {},
   "outputs": [],
   "source": []
  },
  {
   "cell_type": "code",
   "execution_count": 3,
   "metadata": {},
   "outputs": [
    {
     "ename": "IOException",
     "evalue": "IO Error: Could not set lock on file \"/workspaces/PPM_Reports/cache/cache_db_0.9.db\": Conflicting lock is held in /usr/local/python/3.10.13/bin/python3.10 (PID 21752). See also https://duckdb.org/docs/connect/concurrency",
     "output_type": "error",
     "traceback": [
      "\u001b[0;31m---------------------------------------------------------------------------\u001b[0m",
      "\u001b[0;31mIOException\u001b[0m                               Traceback (most recent call last)",
      "Cell \u001b[0;32mIn[3], line 7\u001b[0m\n\u001b[1;32m      4\u001b[0m \u001b[38;5;66;03m# By default, unless you choose a different LLM, it will use BambooLLM.\u001b[39;00m\n\u001b[1;32m      5\u001b[0m \u001b[38;5;66;03m# You can get your free API key signing up at https://pandabi.ai (you can also configure it in your .env file)\u001b[39;00m\n\u001b[1;32m      6\u001b[0m os\u001b[38;5;241m.\u001b[39menviron[\u001b[38;5;124m\"\u001b[39m\u001b[38;5;124mPANDASAI_API_KEY\u001b[39m\u001b[38;5;124m\"\u001b[39m] \u001b[38;5;241m=\u001b[39m \u001b[38;5;124m\"\u001b[39m\u001b[38;5;124m$2a$10$3lpg.RW0lsf63jzOdLm4XugvVLNAo.RKoCahPytqnpLS8Sk5e74ui\u001b[39m\u001b[38;5;124m\"\u001b[39m\n\u001b[0;32m----> 7\u001b[0m sdf \u001b[38;5;241m=\u001b[39m \u001b[43mSmartDataframe\u001b[49m\u001b[43m(\u001b[49m\u001b[38;5;124;43m\"\u001b[39;49m\u001b[38;5;124;43mDatasets/population.csv\u001b[39;49m\u001b[38;5;124;43m\"\u001b[39;49m\u001b[43m)\u001b[49m\n\u001b[1;32m      9\u001b[0m response \u001b[38;5;241m=\u001b[39m sdf\u001b[38;5;241m.\u001b[39mchat(\u001b[38;5;124m\"\u001b[39m\u001b[38;5;124mHow many loans are from men and have been paid off?\u001b[39m\u001b[38;5;124m\"\u001b[39m)\n\u001b[1;32m     10\u001b[0m \u001b[38;5;28mprint\u001b[39m(response)\n",
      "File \u001b[0;32m~/.python/current/lib/python3.10/site-packages/pandasai/smart_dataframe/__init__.py:62\u001b[0m, in \u001b[0;36mSmartDataframe.__init__\u001b[0;34m(self, df, name, description, custom_head, config)\u001b[0m\n\u001b[1;32m     52\u001b[0m \u001b[38;5;250m\u001b[39m\u001b[38;5;124;03m\"\"\"\u001b[39;00m\n\u001b[1;32m     53\u001b[0m \u001b[38;5;124;03mArgs:\u001b[39;00m\n\u001b[1;32m     54\u001b[0m \u001b[38;5;124;03m    df: A supported dataframe type, or a pandasai Connector\u001b[39;00m\n\u001b[0;32m   (...)\u001b[0m\n\u001b[1;32m     58\u001b[0m \u001b[38;5;124;03m    config (Config, optional): Config to be used. Defaults to None.\u001b[39;00m\n\u001b[1;32m     59\u001b[0m \u001b[38;5;124;03m\"\"\"\u001b[39;00m\n\u001b[1;32m     60\u001b[0m \u001b[38;5;28mself\u001b[39m\u001b[38;5;241m.\u001b[39m_original_import \u001b[38;5;241m=\u001b[39m df\n\u001b[0;32m---> 62\u001b[0m \u001b[38;5;28mself\u001b[39m\u001b[38;5;241m.\u001b[39m_agent \u001b[38;5;241m=\u001b[39m \u001b[43mAgent\u001b[49m\u001b[43m(\u001b[49m\u001b[43m[\u001b[49m\u001b[43mdf\u001b[49m\u001b[43m]\u001b[49m\u001b[43m,\u001b[49m\u001b[43m \u001b[49m\u001b[43mconfig\u001b[49m\u001b[38;5;241;43m=\u001b[39;49m\u001b[43mconfig\u001b[49m\u001b[43m)\u001b[49m\n\u001b[1;32m     64\u001b[0m \u001b[38;5;28mself\u001b[39m\u001b[38;5;241m.\u001b[39mdataframe \u001b[38;5;241m=\u001b[39m \u001b[38;5;28mself\u001b[39m\u001b[38;5;241m.\u001b[39m_agent\u001b[38;5;241m.\u001b[39mcontext\u001b[38;5;241m.\u001b[39mdfs[\u001b[38;5;241m0\u001b[39m]\n\u001b[1;32m     66\u001b[0m \u001b[38;5;28mself\u001b[39m\u001b[38;5;241m.\u001b[39m_table_description \u001b[38;5;241m=\u001b[39m description\n",
      "File \u001b[0;32m~/.python/current/lib/python3.10/site-packages/pandasai/agent/base.py:76\u001b[0m, in \u001b[0;36mAgent.__init__\u001b[0;34m(self, dfs, config, memory_size, pipeline, vectorstore, description)\u001b[0m\n\u001b[1;32m     74\u001b[0m \u001b[38;5;66;03m# Instantiate the context\u001b[39;00m\n\u001b[1;32m     75\u001b[0m config \u001b[38;5;241m=\u001b[39m \u001b[38;5;28mself\u001b[39m\u001b[38;5;241m.\u001b[39mget_config(config)\n\u001b[0;32m---> 76\u001b[0m \u001b[38;5;28mself\u001b[39m\u001b[38;5;241m.\u001b[39mcontext \u001b[38;5;241m=\u001b[39m \u001b[43mPipelineContext\u001b[49m\u001b[43m(\u001b[49m\n\u001b[1;32m     77\u001b[0m \u001b[43m    \u001b[49m\u001b[43mdfs\u001b[49m\u001b[38;5;241;43m=\u001b[39;49m\u001b[43mdfs\u001b[49m\u001b[43m,\u001b[49m\n\u001b[1;32m     78\u001b[0m \u001b[43m    \u001b[49m\u001b[43mconfig\u001b[49m\u001b[38;5;241;43m=\u001b[39;49m\u001b[43mconfig\u001b[49m\u001b[43m,\u001b[49m\n\u001b[1;32m     79\u001b[0m \u001b[43m    \u001b[49m\u001b[43mmemory\u001b[49m\u001b[38;5;241;43m=\u001b[39;49m\u001b[43mMemory\u001b[49m\u001b[43m(\u001b[49m\u001b[43mmemory_size\u001b[49m\u001b[43m,\u001b[49m\u001b[43m \u001b[49m\u001b[43magent_info\u001b[49m\u001b[38;5;241;43m=\u001b[39;49m\u001b[43mdescription\u001b[49m\u001b[43m)\u001b[49m\u001b[43m,\u001b[49m\n\u001b[1;32m     80\u001b[0m \u001b[43m    \u001b[49m\u001b[43mvectorstore\u001b[49m\u001b[38;5;241;43m=\u001b[39;49m\u001b[43mvectorstore\u001b[49m\u001b[43m,\u001b[49m\n\u001b[1;32m     81\u001b[0m \u001b[43m\u001b[49m\u001b[43m)\u001b[49m\n\u001b[1;32m     83\u001b[0m \u001b[38;5;66;03m# Instantiate the logger\u001b[39;00m\n\u001b[1;32m     84\u001b[0m \u001b[38;5;28mself\u001b[39m\u001b[38;5;241m.\u001b[39mlogger \u001b[38;5;241m=\u001b[39m Logger(save_logs\u001b[38;5;241m=\u001b[39mconfig\u001b[38;5;241m.\u001b[39msave_logs, verbose\u001b[38;5;241m=\u001b[39mconfig\u001b[38;5;241m.\u001b[39mverbose)\n",
      "File \u001b[0;32m~/.python/current/lib/python3.10/site-packages/pandasai/pipelines/pipeline_context.py:35\u001b[0m, in \u001b[0;36mPipelineContext.__init__\u001b[0;34m(self, dfs, config, memory, skills_manager, cache, vectorstore, initial_values)\u001b[0m\n\u001b[1;32m     32\u001b[0m \u001b[38;5;28mself\u001b[39m\u001b[38;5;241m.\u001b[39mskills_manager \u001b[38;5;241m=\u001b[39m skills_manager \u001b[38;5;129;01mor\u001b[39;00m SkillsManager()\n\u001b[1;32m     34\u001b[0m \u001b[38;5;28;01mif\u001b[39;00m config\u001b[38;5;241m.\u001b[39menable_cache:\n\u001b[0;32m---> 35\u001b[0m     \u001b[38;5;28mself\u001b[39m\u001b[38;5;241m.\u001b[39mcache \u001b[38;5;241m=\u001b[39m cache \u001b[38;5;28;01mif\u001b[39;00m cache \u001b[38;5;129;01mis\u001b[39;00m \u001b[38;5;129;01mnot\u001b[39;00m \u001b[38;5;28;01mNone\u001b[39;00m \u001b[38;5;28;01melse\u001b[39;00m \u001b[43mCache\u001b[49m\u001b[43m(\u001b[49m\u001b[43m)\u001b[49m\n\u001b[1;32m     36\u001b[0m \u001b[38;5;28;01melse\u001b[39;00m:\n\u001b[1;32m     37\u001b[0m     \u001b[38;5;28mself\u001b[39m\u001b[38;5;241m.\u001b[39mcache \u001b[38;5;241m=\u001b[39m \u001b[38;5;28;01mNone\u001b[39;00m\n",
      "File \u001b[0;32m~/.python/current/lib/python3.10/site-packages/pandasai/helpers/cache.py:32\u001b[0m, in \u001b[0;36mCache.__init__\u001b[0;34m(self, filename, abs_path)\u001b[0m\n\u001b[1;32m     29\u001b[0m os\u001b[38;5;241m.\u001b[39mmakedirs(cache_dir, mode\u001b[38;5;241m=\u001b[39mDEFAULT_FILE_PERMISSIONS, exist_ok\u001b[38;5;241m=\u001b[39m\u001b[38;5;28;01mTrue\u001b[39;00m)\n\u001b[1;32m     31\u001b[0m \u001b[38;5;28mself\u001b[39m\u001b[38;5;241m.\u001b[39mfilepath \u001b[38;5;241m=\u001b[39m os\u001b[38;5;241m.\u001b[39mpath\u001b[38;5;241m.\u001b[39mjoin(cache_dir, \u001b[38;5;124mf\u001b[39m\u001b[38;5;124m\"\u001b[39m\u001b[38;5;132;01m{\u001b[39;00mfilename\u001b[38;5;132;01m}\u001b[39;00m\u001b[38;5;124m.db\u001b[39m\u001b[38;5;124m\"\u001b[39m)\n\u001b[0;32m---> 32\u001b[0m \u001b[38;5;28mself\u001b[39m\u001b[38;5;241m.\u001b[39mconnection \u001b[38;5;241m=\u001b[39m \u001b[43mduckdb\u001b[49m\u001b[38;5;241;43m.\u001b[39;49m\u001b[43mconnect\u001b[49m\u001b[43m(\u001b[49m\u001b[38;5;28;43mself\u001b[39;49m\u001b[38;5;241;43m.\u001b[39;49m\u001b[43mfilepath\u001b[49m\u001b[43m)\u001b[49m\n\u001b[1;32m     33\u001b[0m \u001b[38;5;28mself\u001b[39m\u001b[38;5;241m.\u001b[39mconnection\u001b[38;5;241m.\u001b[39mexecute(\n\u001b[1;32m     34\u001b[0m     \u001b[38;5;124m\"\u001b[39m\u001b[38;5;124mCREATE TABLE IF NOT EXISTS cache (key STRING, value STRING)\u001b[39m\u001b[38;5;124m\"\u001b[39m\n\u001b[1;32m     35\u001b[0m )\n",
      "\u001b[0;31mIOException\u001b[0m: IO Error: Could not set lock on file \"/workspaces/PPM_Reports/cache/cache_db_0.9.db\": Conflicting lock is held in /usr/local/python/3.10.13/bin/python3.10 (PID 21752). See also https://duckdb.org/docs/connect/concurrency"
     ]
    }
   ],
   "source": [
    "import os\n",
    "from pandasai import SmartDataframe\n",
    "\n",
    "# By default, unless you choose a different LLM, it will use BambooLLM.\n",
    "# You can get your free API key signing up at https://pandabi.ai (you can also configure it in your .env file)\n",
    "os.environ[\"PANDASAI_API_KEY\"] = \"$2a$10$3lpg.RW0lsf63jzOdLm4XugvVLNAo.RKoCahPytqnpLS8Sk5e74ui\"\n",
    "sdf = SmartDataframe(\"Datasets/population.csv\")\n",
    "\n",
    "response = sdf.chat(\"How many loans are from men and have been paid off?\")\n",
    "print(response)\n",
    "# Output: 247 loans have been paid off by men."
   ]
  },
  {
   "cell_type": "code",
   "execution_count": null,
   "metadata": {},
   "outputs": [],
   "source": [
    "import os\n",
    "\n",
    "os.environ[\"DUCKDB_CACHE_DIR\"] = \"/path/to/new/cache/directory\"\n",
    "\n",
    "# By default, unless you choose a different LLM, it will use BambooLLM.\n",
    "# You can get your free API key signing up at https://pandabi.ai (you can also configure it in your .env file)\n",
    "os.environ[\"PANDASAI_API_KEY\"] = \"$2a$10$3lpg.RW0lsf63jzOdLm4XugvVLNAo.RKoCahPytqnpLS8Sk5e74ui\"\n",
    "sdf = SmartDataframe(\"Datasets/population.csv\")\n",
    "\n",
    "response = sdf.chat(\"How many loans are from men and have been paid off?\")\n",
    "print(response)"
   ]
  },
  {
   "cell_type": "code",
   "execution_count": null,
   "metadata": {},
   "outputs": [],
   "source": []
  }
 ],
 "metadata": {
  "kernelspec": {
   "display_name": "Python 3",
   "language": "python",
   "name": "python3"
  },
  "language_info": {
   "codemirror_mode": {
    "name": "ipython",
    "version": 3
   },
   "file_extension": ".py",
   "mimetype": "text/x-python",
   "name": "python",
   "nbconvert_exporter": "python",
   "pygments_lexer": "ipython3",
   "version": "3.10.13"
  }
 },
 "nbformat": 4,
 "nbformat_minor": 2
}
