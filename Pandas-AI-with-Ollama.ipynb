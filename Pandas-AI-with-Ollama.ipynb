{
 "cells": [
  {
   "cell_type": "code",
   "execution_count": 1,
   "metadata": {},
   "outputs": [
    {
     "data": {
      "text/html": [
       "<div>\n",
       "<style scoped>\n",
       "    .dataframe tbody tr th:only-of-type {\n",
       "        vertical-align: middle;\n",
       "    }\n",
       "\n",
       "    .dataframe tbody tr th {\n",
       "        vertical-align: top;\n",
       "    }\n",
       "\n",
       "    .dataframe thead th {\n",
       "        text-align: right;\n",
       "    }\n",
       "</style>\n",
       "<table border=\"1\" class=\"dataframe\">\n",
       "  <thead>\n",
       "    <tr style=\"text-align: right;\">\n",
       "      <th></th>\n",
       "      <th>Country</th>\n",
       "      <th>Population</th>\n",
       "    </tr>\n",
       "  </thead>\n",
       "  <tbody>\n",
       "    <tr>\n",
       "      <th>0</th>\n",
       "      <td>United States</td>\n",
       "      <td>339996563</td>\n",
       "    </tr>\n",
       "    <tr>\n",
       "      <th>1</th>\n",
       "      <td>China</td>\n",
       "      <td>1425671352</td>\n",
       "    </tr>\n",
       "    <tr>\n",
       "      <th>2</th>\n",
       "      <td>Germany</td>\n",
       "      <td>83294633</td>\n",
       "    </tr>\n",
       "    <tr>\n",
       "      <th>3</th>\n",
       "      <td>Turkey</td>\n",
       "      <td>85816199</td>\n",
       "    </tr>\n",
       "    <tr>\n",
       "      <th>4</th>\n",
       "      <td>Japan</td>\n",
       "      <td>123294513</td>\n",
       "    </tr>\n",
       "  </tbody>\n",
       "</table>\n",
       "</div>"
      ],
      "text/plain": [
       "         Country  Population\n",
       "0  United States   339996563\n",
       "1          China  1425671352\n",
       "2        Germany    83294633\n",
       "3         Turkey    85816199\n",
       "4          Japan   123294513"
      ]
     },
     "execution_count": 1,
     "metadata": {},
     "output_type": "execute_result"
    }
   ],
   "source": [
    "import pandas as pd\n",
    "data = pd.read_csv(\"Datasets/population.csv\")\n",
    "data.head()"
   ]
  },
  {
   "cell_type": "code",
   "execution_count": 2,
   "metadata": {},
   "outputs": [],
   "source": [
    "from langchain_community.llms import Ollama\n",
    "llm = Ollama(model=\"mistral\")"
   ]
  },
  {
   "cell_type": "code",
   "execution_count": 3,
   "metadata": {},
   "outputs": [],
   "source": [
    "from pandasai import SmartDataframe\n",
    "df = SmartDataframe(data, config={\"llm\": llm})"
   ]
  },
  {
   "cell_type": "code",
   "execution_count": 4,
   "metadata": {},
   "outputs": [
    {
     "name": "stderr",
     "output_type": "stream",
     "text": [
      "Traceback (most recent call last):\n",
      "  File \"/home/codespace/.python/current/lib/python3.10/site-packages/urllib3/response.py\", line 710, in _error_catcher\n",
      "    yield\n",
      "  File \"/home/codespace/.python/current/lib/python3.10/site-packages/urllib3/response.py\", line 1073, in read_chunked\n",
      "    self._update_chunk_length()\n",
      "  File \"/home/codespace/.python/current/lib/python3.10/site-packages/urllib3/response.py\", line 1008, in _update_chunk_length\n",
      "    raise InvalidChunkLength(self, line) from None\n",
      "urllib3.exceptions.InvalidChunkLength: InvalidChunkLength(got length b'', 0 bytes read)\n",
      "\n",
      "The above exception was the direct cause of the following exception:\n",
      "\n",
      "Traceback (most recent call last):\n",
      "  File \"/home/codespace/.local/lib/python3.10/site-packages/requests/models.py\", line 816, in generate\n",
      "    yield from self.raw.stream(chunk_size, decode_content=True)\n",
      "  File \"/home/codespace/.python/current/lib/python3.10/site-packages/urllib3/response.py\", line 933, in stream\n",
      "    yield from self.read_chunked(amt, decode_content=decode_content)\n",
      "  File \"/home/codespace/.python/current/lib/python3.10/site-packages/urllib3/response.py\", line 1061, in read_chunked\n",
      "    with self._error_catcher():\n",
      "  File \"/home/codespace/.python/current/lib/python3.10/contextlib.py\", line 153, in __exit__\n",
      "    self.gen.throw(typ, value, traceback)\n",
      "  File \"/home/codespace/.python/current/lib/python3.10/site-packages/urllib3/response.py\", line 727, in _error_catcher\n",
      "    raise ProtocolError(f\"Connection broken: {e!r}\", e) from e\n",
      "urllib3.exceptions.ProtocolError: (\"Connection broken: InvalidChunkLength(got length b'', 0 bytes read)\", InvalidChunkLength(got length b'', 0 bytes read))\n",
      "\n",
      "During handling of the above exception, another exception occurred:\n",
      "\n",
      "Traceback (most recent call last):\n",
      "  File \"/home/codespace/.python/current/lib/python3.10/site-packages/pandasai/pipelines/chat/generate_chat_pipeline.py\", line 307, in run\n",
      "    output = (self.code_generation_pipeline | self.code_execution_pipeline).run(\n",
      "  File \"/home/codespace/.python/current/lib/python3.10/site-packages/pandasai/pipelines/pipeline.py\", line 137, in run\n",
      "    raise e\n",
      "  File \"/home/codespace/.python/current/lib/python3.10/site-packages/pandasai/pipelines/pipeline.py\", line 101, in run\n",
      "    step_output = logic.execute(\n",
      "  File \"/home/codespace/.python/current/lib/python3.10/site-packages/pandasai/pipelines/chat/code_generator.py\", line 33, in execute\n",
      "    code = pipeline_context.config.llm.generate_code(input, pipeline_context)\n",
      "  File \"/home/codespace/.python/current/lib/python3.10/site-packages/pandasai/llm/base.py\", line 200, in generate_code\n",
      "    response = self.call(instruction, context)\n",
      "  File \"/home/codespace/.python/current/lib/python3.10/site-packages/pandasai/llm/langchain.py\", line 55, in call\n",
      "    res = self.langchain_llm.invoke(prompt)\n",
      "  File \"/home/codespace/.python/current/lib/python3.10/site-packages/langchain_core/language_models/llms.py\", line 276, in invoke\n",
      "    self.generate_prompt(\n",
      "  File \"/home/codespace/.python/current/lib/python3.10/site-packages/langchain_core/language_models/llms.py\", line 633, in generate_prompt\n",
      "    return self.generate(prompt_strings, stop=stop, callbacks=callbacks, **kwargs)\n",
      "  File \"/home/codespace/.python/current/lib/python3.10/site-packages/langchain_core/language_models/llms.py\", line 803, in generate\n",
      "    output = self._generate_helper(\n",
      "  File \"/home/codespace/.python/current/lib/python3.10/site-packages/langchain_core/language_models/llms.py\", line 670, in _generate_helper\n",
      "    raise e\n",
      "  File \"/home/codespace/.python/current/lib/python3.10/site-packages/langchain_core/language_models/llms.py\", line 657, in _generate_helper\n",
      "    self._generate(\n",
      "  File \"/home/codespace/.python/current/lib/python3.10/site-packages/langchain_community/llms/ollama.py\", line 417, in _generate\n",
      "    final_chunk = super()._stream_with_aggregation(\n",
      "  File \"/home/codespace/.python/current/lib/python3.10/site-packages/langchain_community/llms/ollama.py\", line 326, in _stream_with_aggregation\n",
      "    for stream_resp in self._create_generate_stream(prompt, stop, **kwargs):\n",
      "  File \"/home/codespace/.python/current/lib/python3.10/site-packages/langchain_community/llms/ollama.py\", line 172, in _create_generate_stream\n",
      "    yield from self._create_stream(\n",
      "  File \"/home/codespace/.local/lib/python3.10/site-packages/requests/models.py\", line 865, in iter_lines\n",
      "    for chunk in self.iter_content(\n",
      "  File \"/home/codespace/.local/lib/python3.10/site-packages/requests/utils.py\", line 571, in stream_decode_response_unicode\n",
      "    for chunk in iterator:\n",
      "  File \"/home/codespace/.local/lib/python3.10/site-packages/requests/models.py\", line 818, in generate\n",
      "    raise ChunkedEncodingError(e)\n",
      "requests.exceptions.ChunkedEncodingError: (\"Connection broken: InvalidChunkLength(got length b'', 0 bytes read)\", InvalidChunkLength(got length b'', 0 bytes read))\n"
     ]
    },
    {
     "data": {
      "text/plain": [
       "'Unfortunately, I was not able to answer your question, because of the following error:\\n\\n(\"Connection broken: InvalidChunkLength(got length b\\'\\', 0 bytes read)\", InvalidChunkLength(got length b\\'\\', 0 bytes read))\\n'"
      ]
     },
     "execution_count": 4,
     "metadata": {},
     "output_type": "execute_result"
    }
   ],
   "source": [
    "df.chat('Which are top 5 countries by population?')"
   ]
  },
  {
   "cell_type": "code",
   "execution_count": 5,
   "metadata": {},
   "outputs": [
    {
     "name": "stdout",
     "output_type": "stream",
     "text": [
      "Unfortunately, I was not able to answer your question, because of the following error:\n",
      "\n",
      "HTTPConnectionPool(host='localhost', port=11434): Max retries exceeded with url: /api/generate (Caused by NewConnectionError('<urllib3.connection.HTTPConnection object at 0x7231367705e0>: Failed to establish a new connection: [Errno 111] Connection refused'))\n",
      "\n"
     ]
    },
    {
     "name": "stderr",
     "output_type": "stream",
     "text": [
      "Traceback (most recent call last):\n",
      "  File \"/home/codespace/.python/current/lib/python3.10/site-packages/urllib3/connection.py\", line 203, in _new_conn\n",
      "    sock = connection.create_connection(\n",
      "  File \"/home/codespace/.python/current/lib/python3.10/site-packages/urllib3/util/connection.py\", line 85, in create_connection\n",
      "    raise err\n",
      "  File \"/home/codespace/.python/current/lib/python3.10/site-packages/urllib3/util/connection.py\", line 73, in create_connection\n",
      "    sock.connect(sa)\n",
      "ConnectionRefusedError: [Errno 111] Connection refused\n",
      "\n",
      "The above exception was the direct cause of the following exception:\n",
      "\n",
      "Traceback (most recent call last):\n",
      "  File \"/home/codespace/.python/current/lib/python3.10/site-packages/urllib3/connectionpool.py\", line 791, in urlopen\n",
      "    response = self._make_request(\n",
      "  File \"/home/codespace/.python/current/lib/python3.10/site-packages/urllib3/connectionpool.py\", line 497, in _make_request\n",
      "    conn.request(\n",
      "  File \"/home/codespace/.python/current/lib/python3.10/site-packages/urllib3/connection.py\", line 395, in request\n",
      "    self.endheaders()\n",
      "  File \"/home/codespace/.python/current/lib/python3.10/http/client.py\", line 1278, in endheaders\n",
      "    self._send_output(message_body, encode_chunked=encode_chunked)\n",
      "  File \"/home/codespace/.python/current/lib/python3.10/http/client.py\", line 1038, in _send_output\n",
      "    self.send(msg)\n",
      "  File \"/home/codespace/.python/current/lib/python3.10/http/client.py\", line 976, in send\n",
      "    self.connect()\n",
      "  File \"/home/codespace/.python/current/lib/python3.10/site-packages/urllib3/connection.py\", line 243, in connect\n",
      "    self.sock = self._new_conn()\n",
      "  File \"/home/codespace/.python/current/lib/python3.10/site-packages/urllib3/connection.py\", line 218, in _new_conn\n",
      "    raise NewConnectionError(\n",
      "urllib3.exceptions.NewConnectionError: <urllib3.connection.HTTPConnection object at 0x7231367705e0>: Failed to establish a new connection: [Errno 111] Connection refused\n",
      "\n",
      "The above exception was the direct cause of the following exception:\n",
      "\n",
      "Traceback (most recent call last):\n",
      "  File \"/home/codespace/.local/lib/python3.10/site-packages/requests/adapters.py\", line 486, in send\n",
      "    resp = conn.urlopen(\n",
      "  File \"/home/codespace/.python/current/lib/python3.10/site-packages/urllib3/connectionpool.py\", line 845, in urlopen\n",
      "    retries = retries.increment(\n",
      "  File \"/home/codespace/.python/current/lib/python3.10/site-packages/urllib3/util/retry.py\", line 515, in increment\n",
      "    raise MaxRetryError(_pool, url, reason) from reason  # type: ignore[arg-type]\n",
      "urllib3.exceptions.MaxRetryError: HTTPConnectionPool(host='localhost', port=11434): Max retries exceeded with url: /api/generate (Caused by NewConnectionError('<urllib3.connection.HTTPConnection object at 0x7231367705e0>: Failed to establish a new connection: [Errno 111] Connection refused'))\n",
      "\n",
      "During handling of the above exception, another exception occurred:\n",
      "\n",
      "Traceback (most recent call last):\n",
      "  File \"/home/codespace/.python/current/lib/python3.10/site-packages/pandasai/pipelines/chat/generate_chat_pipeline.py\", line 307, in run\n",
      "    output = (self.code_generation_pipeline | self.code_execution_pipeline).run(\n",
      "  File \"/home/codespace/.python/current/lib/python3.10/site-packages/pandasai/pipelines/pipeline.py\", line 137, in run\n",
      "    raise e\n",
      "  File \"/home/codespace/.python/current/lib/python3.10/site-packages/pandasai/pipelines/pipeline.py\", line 101, in run\n",
      "    step_output = logic.execute(\n",
      "  File \"/home/codespace/.python/current/lib/python3.10/site-packages/pandasai/pipelines/chat/code_generator.py\", line 33, in execute\n",
      "    code = pipeline_context.config.llm.generate_code(input, pipeline_context)\n",
      "  File \"/home/codespace/.python/current/lib/python3.10/site-packages/pandasai/llm/base.py\", line 200, in generate_code\n",
      "    response = self.call(instruction, context)\n",
      "  File \"/home/codespace/.python/current/lib/python3.10/site-packages/pandasai/llm/langchain.py\", line 55, in call\n",
      "    res = self.langchain_llm.invoke(prompt)\n",
      "  File \"/home/codespace/.python/current/lib/python3.10/site-packages/langchain_core/language_models/llms.py\", line 276, in invoke\n",
      "    self.generate_prompt(\n",
      "  File \"/home/codespace/.python/current/lib/python3.10/site-packages/langchain_core/language_models/llms.py\", line 633, in generate_prompt\n",
      "    return self.generate(prompt_strings, stop=stop, callbacks=callbacks, **kwargs)\n",
      "  File \"/home/codespace/.python/current/lib/python3.10/site-packages/langchain_core/language_models/llms.py\", line 803, in generate\n",
      "    output = self._generate_helper(\n",
      "  File \"/home/codespace/.python/current/lib/python3.10/site-packages/langchain_core/language_models/llms.py\", line 670, in _generate_helper\n",
      "    raise e\n",
      "  File \"/home/codespace/.python/current/lib/python3.10/site-packages/langchain_core/language_models/llms.py\", line 657, in _generate_helper\n",
      "    self._generate(\n",
      "  File \"/home/codespace/.python/current/lib/python3.10/site-packages/langchain_community/llms/ollama.py\", line 417, in _generate\n",
      "    final_chunk = super()._stream_with_aggregation(\n",
      "  File \"/home/codespace/.python/current/lib/python3.10/site-packages/langchain_community/llms/ollama.py\", line 326, in _stream_with_aggregation\n",
      "    for stream_resp in self._create_generate_stream(prompt, stop, **kwargs):\n",
      "  File \"/home/codespace/.python/current/lib/python3.10/site-packages/langchain_community/llms/ollama.py\", line 172, in _create_generate_stream\n",
      "    yield from self._create_stream(\n",
      "  File \"/home/codespace/.python/current/lib/python3.10/site-packages/langchain_community/llms/ollama.py\", line 231, in _create_stream\n",
      "    response = requests.post(\n",
      "  File \"/home/codespace/.local/lib/python3.10/site-packages/requests/api.py\", line 115, in post\n",
      "    return request(\"post\", url, data=data, json=json, **kwargs)\n",
      "  File \"/home/codespace/.local/lib/python3.10/site-packages/requests/api.py\", line 59, in request\n",
      "    return session.request(method=method, url=url, **kwargs)\n",
      "  File \"/home/codespace/.local/lib/python3.10/site-packages/requests/sessions.py\", line 589, in request\n",
      "    resp = self.send(prep, **send_kwargs)\n",
      "  File \"/home/codespace/.local/lib/python3.10/site-packages/requests/sessions.py\", line 703, in send\n",
      "    r = adapter.send(request, **kwargs)\n",
      "  File \"/home/codespace/.local/lib/python3.10/site-packages/requests/adapters.py\", line 519, in send\n",
      "    raise ConnectionError(e, request=request)\n",
      "requests.exceptions.ConnectionError: HTTPConnectionPool(host='localhost', port=11434): Max retries exceeded with url: /api/generate (Caused by NewConnectionError('<urllib3.connection.HTTPConnection object at 0x7231367705e0>: Failed to establish a new connection: [Errno 111] Connection refused'))\n"
     ]
    }
   ],
   "source": [
    "print(df.chat(\"What is the total populations of the top 5 countries by population?\"))"
   ]
  },
  {
   "cell_type": "code",
   "execution_count": null,
   "metadata": {},
   "outputs": [],
   "source": []
  }
 ],
 "metadata": {
  "kernelspec": {
   "display_name": "genai",
   "language": "python",
   "name": "python3"
  },
  "language_info": {
   "codemirror_mode": {
    "name": "ipython",
    "version": 3
   },
   "file_extension": ".py",
   "mimetype": "text/x-python",
   "name": "python",
   "nbconvert_exporter": "python",
   "pygments_lexer": "ipython3",
   "version": "3.10.13"
  }
 },
 "nbformat": 4,
 "nbformat_minor": 2
}
